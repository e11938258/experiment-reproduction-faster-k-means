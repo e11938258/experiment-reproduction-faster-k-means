{
 "cells": [
  {
   "cell_type": "code",
   "execution_count": 92,
   "metadata": {},
   "outputs": [],
   "source": [
    "import pandas as pd\n",
    "import matplotlib.pyplot as plt \n",
    "import statistics\n",
    "import math\n",
    "from scipy import stats"
   ]
  },
  {
   "cell_type": "markdown",
   "metadata": {},
   "source": [
    "## Define which experiments results we want to examine"
   ]
  },
  {
   "cell_type": "code",
   "execution_count": 8,
   "metadata": {},
   "outputs": [],
   "source": [
    "RESULTS_FOLDER = \"../results/Filip/Birch_1_MSE/\""
   ]
  },
  {
   "cell_type": "code",
   "execution_count": 100,
   "metadata": {},
   "outputs": [],
   "source": [
    "FILENAME = \"birch--triangle-100-1-20-KPP\""
   ]
  },
  {
   "cell_type": "markdown",
   "metadata": {},
   "source": [
    "## Parse the custom output format into a dataframe"
   ]
  },
  {
   "cell_type": "code",
   "execution_count": 101,
   "metadata": {},
   "outputs": [],
   "source": [
    "def parseNonHeuristic(line, columns):\n",
    "    # drop the brackets and \"non-heuristic,\" at the start\n",
    "    line = line[15:-1]\n",
    "    result = [element.lstrip() for element in line.split(\",\")] # remove whitespaces\n",
    "    df = pd.DataFrame([result], columns=columns)\n",
    "    return df\n",
    "\n",
    "def parseHeuristic(line, columns):\n",
    "    # drop the brackets\n",
    "    line = line[11:-1]\n",
    "    result = [element.lstrip() for element in line.split(\",\")] # remove whitespaces\n",
    "    df = pd.DataFrame([result], columns=columns)\n",
    "    return df\n",
    "\n",
    "def parseRunResult(result, nonHeuristicDf, heuristicDf):\n",
    "    line = line[1:-1]\n",
    "    runner = result[0].split(\":\")[0]\n",
    "    parseNonHeuristic(result[1])\n",
    "    print(\"Runner\", runner)\n",
    "    \n",
    "    return\n",
    "\n",
    "def readResultsFile(filename):\n",
    "    nonHeuristicDf = pd.DataFrame(columns=['runtime-non','mse-non','iterations-non'])\n",
    "    heuristicDf = pd.DataFrame(columns=['runtime-heur','mse-achieved','mse-heur','iterations-heur','pim','stagnation'])\n",
    "\n",
    "    with open(RESULTS_FOLDER + filename, 'r') as filehandle:\n",
    "        currentRunner = None\n",
    "        for line in filehandle:\n",
    "            line = line[:-1]\n",
    "            if \":\" in line:\n",
    "                currentRunner = line.split(\":\")[0]\n",
    "            elif line.startswith(\"non-heuristic\"):\n",
    "                parsedLine = parseNonHeuristic(line, list(nonHeuristicDf.columns)),  \n",
    "                nonHeuristicDf = nonHeuristicDf.append(parsedLine,ignore_index = True)\n",
    "            elif line.startswith(\"heuristic\"):\n",
    "                parsedLine = parseHeuristic(line, list(heuristicDf.columns)),  \n",
    "                heuristicDf = heuristicDf.append(parsedLine, ignore_index = True)\n",
    "            else:\n",
    "                raise Exception(\"Unknown line:\", line)\n",
    "    heuristicDf['runtime-heur'] =  heuristicDf['runtime-heur'].astype(float, errors = 'raise')\n",
    "    heuristicDf['iterations-heur'] = heuristicDf['iterations-heur'].astype(int)\n",
    "    heuristicDf['mse-achieved'] = heuristicDf['mse-achieved'].map(lambda x: x==\"True\")\n",
    "    heuristicDf['mse-achieved'] =  heuristicDf['mse-achieved'].astype('bool')\n",
    "    heuristicDf['stagnation'] = heuristicDf['stagnation'].map(lambda x: x==\"True\")\n",
    "    heuristicDf['stagnation'] =  heuristicDf['stagnation'].astype(bool)\n",
    "    nonHeuristicDf['runtime-non'] =  nonHeuristicDf['runtime-non'].astype(float, errors = 'raise')\n",
    "    nonHeuristicDf['iterations-non'] = nonHeuristicDf['iterations-non'].astype(int)\n",
    "\n",
    "    return nonHeuristicDf, heuristicDf\n",
    "\n",
    "nonHeuristicDf, heuristicDf = readResultsFile(FILENAME)"
   ]
  },
  {
   "cell_type": "code",
   "execution_count": 102,
   "metadata": {},
   "outputs": [
    {
     "data": {
      "text/html": [
       "<div>\n",
       "<style scoped>\n",
       "    .dataframe tbody tr th:only-of-type {\n",
       "        vertical-align: middle;\n",
       "    }\n",
       "\n",
       "    .dataframe tbody tr th {\n",
       "        vertical-align: top;\n",
       "    }\n",
       "\n",
       "    .dataframe thead th {\n",
       "        text-align: right;\n",
       "    }\n",
       "</style>\n",
       "<table border=\"1\" class=\"dataframe\">\n",
       "  <thead>\n",
       "    <tr style=\"text-align: right;\">\n",
       "      <th></th>\n",
       "      <th>runtime-non</th>\n",
       "      <th>mse-non</th>\n",
       "      <th>iterations-non</th>\n",
       "      <th>runtime-heur</th>\n",
       "      <th>mse-achieved</th>\n",
       "      <th>mse-heur</th>\n",
       "      <th>iterations-heur</th>\n",
       "      <th>pim</th>\n",
       "      <th>stagnation</th>\n",
       "    </tr>\n",
       "  </thead>\n",
       "  <tbody>\n",
       "    <tr>\n",
       "      <th>0</th>\n",
       "      <td>41.871</td>\n",
       "      <td>7484210229266891.0</td>\n",
       "      <td>3</td>\n",
       "      <td>32.691</td>\n",
       "      <td>False</td>\n",
       "      <td>7551213667510459.0</td>\n",
       "      <td>5</td>\n",
       "      <td>0</td>\n",
       "      <td>True</td>\n",
       "    </tr>\n",
       "    <tr>\n",
       "      <th>1</th>\n",
       "      <td>42.178</td>\n",
       "      <td>7211496880283856.0</td>\n",
       "      <td>3</td>\n",
       "      <td>38.227</td>\n",
       "      <td>False</td>\n",
       "      <td>7519329968486015.0</td>\n",
       "      <td>9</td>\n",
       "      <td>0</td>\n",
       "      <td>True</td>\n",
       "    </tr>\n",
       "    <tr>\n",
       "      <th>2</th>\n",
       "      <td>42.136</td>\n",
       "      <td>7138086327214976.0</td>\n",
       "      <td>3</td>\n",
       "      <td>40.317</td>\n",
       "      <td>False</td>\n",
       "      <td>7272624032253618.0</td>\n",
       "      <td>10</td>\n",
       "      <td>0</td>\n",
       "      <td>True</td>\n",
       "    </tr>\n",
       "    <tr>\n",
       "      <th>3</th>\n",
       "      <td>48.597</td>\n",
       "      <td>6877504089480892.0</td>\n",
       "      <td>4</td>\n",
       "      <td>40.684</td>\n",
       "      <td>False</td>\n",
       "      <td>6995462421958692.0</td>\n",
       "      <td>10</td>\n",
       "      <td>0</td>\n",
       "      <td>True</td>\n",
       "    </tr>\n",
       "    <tr>\n",
       "      <th>4</th>\n",
       "      <td>49.165</td>\n",
       "      <td>6550747624648164.0</td>\n",
       "      <td>4</td>\n",
       "      <td>47.937</td>\n",
       "      <td>True</td>\n",
       "      <td>6521938240966511.0</td>\n",
       "      <td>13</td>\n",
       "      <td>0</td>\n",
       "      <td>True</td>\n",
       "    </tr>\n",
       "    <tr>\n",
       "      <th>5</th>\n",
       "      <td>43.781</td>\n",
       "      <td>6722864002339624.0</td>\n",
       "      <td>3</td>\n",
       "      <td>32.428</td>\n",
       "      <td>False</td>\n",
       "      <td>7068170920032101.0</td>\n",
       "      <td>5</td>\n",
       "      <td>0</td>\n",
       "      <td>True</td>\n",
       "    </tr>\n",
       "    <tr>\n",
       "      <th>6</th>\n",
       "      <td>41.475</td>\n",
       "      <td>7529152514013192.0</td>\n",
       "      <td>3</td>\n",
       "      <td>34.014</td>\n",
       "      <td>False</td>\n",
       "      <td>7580464407160796.0</td>\n",
       "      <td>6</td>\n",
       "      <td>0</td>\n",
       "      <td>True</td>\n",
       "    </tr>\n",
       "    <tr>\n",
       "      <th>7</th>\n",
       "      <td>41.716</td>\n",
       "      <td>7389597241124872.0</td>\n",
       "      <td>3</td>\n",
       "      <td>35.776</td>\n",
       "      <td>False</td>\n",
       "      <td>7416453614847421.0</td>\n",
       "      <td>7</td>\n",
       "      <td>0</td>\n",
       "      <td>True</td>\n",
       "    </tr>\n",
       "    <tr>\n",
       "      <th>8</th>\n",
       "      <td>41.379</td>\n",
       "      <td>7699033049328656.0</td>\n",
       "      <td>3</td>\n",
       "      <td>43.453</td>\n",
       "      <td>True</td>\n",
       "      <td>7653061177881322.0</td>\n",
       "      <td>11</td>\n",
       "      <td>0</td>\n",
       "      <td>True</td>\n",
       "    </tr>\n",
       "    <tr>\n",
       "      <th>9</th>\n",
       "      <td>40.471</td>\n",
       "      <td>7647621687090102.0</td>\n",
       "      <td>3</td>\n",
       "      <td>37.847</td>\n",
       "      <td>False</td>\n",
       "      <td>7728722331125092.0</td>\n",
       "      <td>9</td>\n",
       "      <td>0</td>\n",
       "      <td>True</td>\n",
       "    </tr>\n",
       "    <tr>\n",
       "      <th>10</th>\n",
       "      <td>41.847</td>\n",
       "      <td>7287759270195909.0</td>\n",
       "      <td>3</td>\n",
       "      <td>38.794</td>\n",
       "      <td>False</td>\n",
       "      <td>7369502091303189.0</td>\n",
       "      <td>9</td>\n",
       "      <td>0</td>\n",
       "      <td>True</td>\n",
       "    </tr>\n",
       "    <tr>\n",
       "      <th>11</th>\n",
       "      <td>41.180</td>\n",
       "      <td>7395344782404791.0</td>\n",
       "      <td>3</td>\n",
       "      <td>37.661</td>\n",
       "      <td>False</td>\n",
       "      <td>7622293286495882.0</td>\n",
       "      <td>9</td>\n",
       "      <td>0</td>\n",
       "      <td>True</td>\n",
       "    </tr>\n",
       "    <tr>\n",
       "      <th>12</th>\n",
       "      <td>43.737</td>\n",
       "      <td>6645125573842602.0</td>\n",
       "      <td>3</td>\n",
       "      <td>47.740</td>\n",
       "      <td>False</td>\n",
       "      <td>6694430099709068.0</td>\n",
       "      <td>13</td>\n",
       "      <td>0</td>\n",
       "      <td>True</td>\n",
       "    </tr>\n",
       "    <tr>\n",
       "      <th>13</th>\n",
       "      <td>40.948</td>\n",
       "      <td>7564905930766418.0</td>\n",
       "      <td>3</td>\n",
       "      <td>34.479</td>\n",
       "      <td>False</td>\n",
       "      <td>7876736874270356.0</td>\n",
       "      <td>7</td>\n",
       "      <td>0</td>\n",
       "      <td>True</td>\n",
       "    </tr>\n",
       "    <tr>\n",
       "      <th>14</th>\n",
       "      <td>41.867</td>\n",
       "      <td>7142374802624808.0</td>\n",
       "      <td>3</td>\n",
       "      <td>29.955</td>\n",
       "      <td>True</td>\n",
       "      <td>6993794285106532.0</td>\n",
       "      <td>3</td>\n",
       "      <td>0</td>\n",
       "      <td>False</td>\n",
       "    </tr>\n",
       "    <tr>\n",
       "      <th>15</th>\n",
       "      <td>41.675</td>\n",
       "      <td>7341498435763823.0</td>\n",
       "      <td>3</td>\n",
       "      <td>33.808</td>\n",
       "      <td>False</td>\n",
       "      <td>7429826988059742.0</td>\n",
       "      <td>6</td>\n",
       "      <td>0</td>\n",
       "      <td>True</td>\n",
       "    </tr>\n",
       "    <tr>\n",
       "      <th>16</th>\n",
       "      <td>41.383</td>\n",
       "      <td>7566981020050164.0</td>\n",
       "      <td>3</td>\n",
       "      <td>44.290</td>\n",
       "      <td>True</td>\n",
       "      <td>7538132984975245.0</td>\n",
       "      <td>12</td>\n",
       "      <td>0</td>\n",
       "      <td>True</td>\n",
       "    </tr>\n",
       "    <tr>\n",
       "      <th>17</th>\n",
       "      <td>42.871</td>\n",
       "      <td>7193826205861640.0</td>\n",
       "      <td>3</td>\n",
       "      <td>34.196</td>\n",
       "      <td>False</td>\n",
       "      <td>7326466586905347.0</td>\n",
       "      <td>6</td>\n",
       "      <td>0</td>\n",
       "      <td>True</td>\n",
       "    </tr>\n",
       "    <tr>\n",
       "      <th>18</th>\n",
       "      <td>42.614</td>\n",
       "      <td>7014873993284676.0</td>\n",
       "      <td>3</td>\n",
       "      <td>39.935</td>\n",
       "      <td>False</td>\n",
       "      <td>7120634945615359.0</td>\n",
       "      <td>9</td>\n",
       "      <td>0</td>\n",
       "      <td>True</td>\n",
       "    </tr>\n",
       "    <tr>\n",
       "      <th>19</th>\n",
       "      <td>42.461</td>\n",
       "      <td>7150314035486804.0</td>\n",
       "      <td>3</td>\n",
       "      <td>39.691</td>\n",
       "      <td>False</td>\n",
       "      <td>7364331693045583.0</td>\n",
       "      <td>10</td>\n",
       "      <td>0</td>\n",
       "      <td>True</td>\n",
       "    </tr>\n",
       "  </tbody>\n",
       "</table>\n",
       "</div>"
      ],
      "text/plain": [
       "    runtime-non             mse-non  iterations-non  runtime-heur  \\\n",
       "0        41.871  7484210229266891.0               3        32.691   \n",
       "1        42.178  7211496880283856.0               3        38.227   \n",
       "2        42.136  7138086327214976.0               3        40.317   \n",
       "3        48.597  6877504089480892.0               4        40.684   \n",
       "4        49.165  6550747624648164.0               4        47.937   \n",
       "5        43.781  6722864002339624.0               3        32.428   \n",
       "6        41.475  7529152514013192.0               3        34.014   \n",
       "7        41.716  7389597241124872.0               3        35.776   \n",
       "8        41.379  7699033049328656.0               3        43.453   \n",
       "9        40.471  7647621687090102.0               3        37.847   \n",
       "10       41.847  7287759270195909.0               3        38.794   \n",
       "11       41.180  7395344782404791.0               3        37.661   \n",
       "12       43.737  6645125573842602.0               3        47.740   \n",
       "13       40.948  7564905930766418.0               3        34.479   \n",
       "14       41.867  7142374802624808.0               3        29.955   \n",
       "15       41.675  7341498435763823.0               3        33.808   \n",
       "16       41.383  7566981020050164.0               3        44.290   \n",
       "17       42.871  7193826205861640.0               3        34.196   \n",
       "18       42.614  7014873993284676.0               3        39.935   \n",
       "19       42.461  7150314035486804.0               3        39.691   \n",
       "\n",
       "    mse-achieved            mse-heur  iterations-heur pim  stagnation  \n",
       "0          False  7551213667510459.0                5   0        True  \n",
       "1          False  7519329968486015.0                9   0        True  \n",
       "2          False  7272624032253618.0               10   0        True  \n",
       "3          False  6995462421958692.0               10   0        True  \n",
       "4           True  6521938240966511.0               13   0        True  \n",
       "5          False  7068170920032101.0                5   0        True  \n",
       "6          False  7580464407160796.0                6   0        True  \n",
       "7          False  7416453614847421.0                7   0        True  \n",
       "8           True  7653061177881322.0               11   0        True  \n",
       "9          False  7728722331125092.0                9   0        True  \n",
       "10         False  7369502091303189.0                9   0        True  \n",
       "11         False  7622293286495882.0                9   0        True  \n",
       "12         False  6694430099709068.0               13   0        True  \n",
       "13         False  7876736874270356.0                7   0        True  \n",
       "14          True  6993794285106532.0                3   0       False  \n",
       "15         False  7429826988059742.0                6   0        True  \n",
       "16          True  7538132984975245.0               12   0        True  \n",
       "17         False  7326466586905347.0                6   0        True  \n",
       "18         False  7120634945615359.0                9   0        True  \n",
       "19         False  7364331693045583.0               10   0        True  "
      ]
     },
     "execution_count": 102,
     "metadata": {},
     "output_type": "execute_result"
    }
   ],
   "source": [
    "results = nonHeuristicDf.merge(heuristicDf, left_index=True, right_index=True)\n",
    "results"
   ]
  },
  {
   "cell_type": "markdown",
   "metadata": {},
   "source": [
    "# Calculate average speedup"
   ]
  },
  {
   "cell_type": "markdown",
   "metadata": {},
   "source": [
    "As stated in the report only take a look at the replicates that did not result in stagnation"
   ]
  },
  {
   "cell_type": "code",
   "execution_count": 103,
   "metadata": {},
   "outputs": [
    {
     "data": {
      "text/html": [
       "<div>\n",
       "<style scoped>\n",
       "    .dataframe tbody tr th:only-of-type {\n",
       "        vertical-align: middle;\n",
       "    }\n",
       "\n",
       "    .dataframe tbody tr th {\n",
       "        vertical-align: top;\n",
       "    }\n",
       "\n",
       "    .dataframe thead th {\n",
       "        text-align: right;\n",
       "    }\n",
       "</style>\n",
       "<table border=\"1\" class=\"dataframe\">\n",
       "  <thead>\n",
       "    <tr style=\"text-align: right;\">\n",
       "      <th></th>\n",
       "      <th>runtime-non</th>\n",
       "      <th>mse-non</th>\n",
       "      <th>iterations-non</th>\n",
       "      <th>runtime-heur</th>\n",
       "      <th>mse-achieved</th>\n",
       "      <th>mse-heur</th>\n",
       "      <th>iterations-heur</th>\n",
       "      <th>pim</th>\n",
       "      <th>stagnation</th>\n",
       "    </tr>\n",
       "  </thead>\n",
       "  <tbody>\n",
       "    <tr>\n",
       "      <th>14</th>\n",
       "      <td>41.867</td>\n",
       "      <td>7142374802624808.0</td>\n",
       "      <td>3</td>\n",
       "      <td>29.955</td>\n",
       "      <td>True</td>\n",
       "      <td>6993794285106532.0</td>\n",
       "      <td>3</td>\n",
       "      <td>0</td>\n",
       "      <td>False</td>\n",
       "    </tr>\n",
       "  </tbody>\n",
       "</table>\n",
       "</div>"
      ],
      "text/plain": [
       "    runtime-non             mse-non  iterations-non  runtime-heur  \\\n",
       "14       41.867  7142374802624808.0               3        29.955   \n",
       "\n",
       "    mse-achieved            mse-heur  iterations-heur pim  stagnation  \n",
       "14          True  6993794285106532.0                3   0       False  "
      ]
     },
     "execution_count": 103,
     "metadata": {},
     "output_type": "execute_result"
    }
   ],
   "source": [
    "speedupRelevant = results[results.stagnation == False]\n",
    "speedupRelevant"
   ]
  },
  {
   "cell_type": "markdown",
   "metadata": {},
   "source": [
    "Calculate the average speedup across all non-stagnated replicates ('Measured speedup' value reported in the report)"
   ]
  },
  {
   "cell_type": "code",
   "execution_count": 104,
   "metadata": {},
   "outputs": [
    {
     "data": {
      "text/plain": [
       "1.397663160447721"
      ]
     },
     "execution_count": 104,
     "metadata": {},
     "output_type": "execute_result"
    }
   ],
   "source": [
    "# speedup of the heuristic method\n",
    "measuredSpeedup = speedupRelevant['runtime-non'].sum()/speedupRelevant['runtime-heur'].sum()\n",
    "measuredSpeedup"
   ]
  },
  {
   "cell_type": "markdown",
   "metadata": {},
   "source": [
    "Calculate the standard deviation of speedup (note that this will not be possible if we don't have at least 2 replicates that didn't stagnate)"
   ]
  },
  {
   "cell_type": "code",
   "execution_count": null,
   "metadata": {},
   "outputs": [],
   "source": [
    "if(len(speedups) < 2):\n",
    "    raise Exception(\"Should not continue only a single non-stagnated replicate was fou\")"
   ]
  },
  {
   "cell_type": "code",
   "execution_count": 105,
   "metadata": {},
   "outputs": [
    {
     "ename": "StatisticsError",
     "evalue": "variance requires at least two data points",
     "output_type": "error",
     "traceback": [
      "\u001b[0;31m---------------------------------------------------------------------------\u001b[0m",
      "\u001b[0;31mStatisticsError\u001b[0m                           Traceback (most recent call last)",
      "\u001b[0;32m<ipython-input-105-fc0d50e6c829>\u001b[0m in \u001b[0;36m<module>\u001b[0;34m\u001b[0m\n\u001b[1;32m      1\u001b[0m \u001b[0mspeedups\u001b[0m \u001b[0;34m=\u001b[0m \u001b[0mspeedupRelevant\u001b[0m\u001b[0;34m[\u001b[0m\u001b[0;34m'runtime-non'\u001b[0m\u001b[0;34m]\u001b[0m \u001b[0;34m/\u001b[0m \u001b[0mspeedupRelevant\u001b[0m\u001b[0;34m[\u001b[0m\u001b[0;34m'runtime-heur'\u001b[0m\u001b[0;34m]\u001b[0m\u001b[0;34m\u001b[0m\u001b[0;34m\u001b[0m\u001b[0m\n\u001b[0;32m----> 2\u001b[0;31m \u001b[0mstatistics\u001b[0m\u001b[0;34m.\u001b[0m\u001b[0mstdev\u001b[0m\u001b[0;34m(\u001b[0m\u001b[0mspeedups\u001b[0m\u001b[0;34m)\u001b[0m\u001b[0;34m\u001b[0m\u001b[0;34m\u001b[0m\u001b[0m\n\u001b[0m",
      "\u001b[0;32m/usr/lib/python3.8/statistics.py\u001b[0m in \u001b[0;36mstdev\u001b[0;34m(data, xbar)\u001b[0m\n\u001b[1;32m    797\u001b[0m \u001b[0;34m\u001b[0m\u001b[0m\n\u001b[1;32m    798\u001b[0m     \"\"\"\n\u001b[0;32m--> 799\u001b[0;31m     \u001b[0mvar\u001b[0m \u001b[0;34m=\u001b[0m \u001b[0mvariance\u001b[0m\u001b[0;34m(\u001b[0m\u001b[0mdata\u001b[0m\u001b[0;34m,\u001b[0m \u001b[0mxbar\u001b[0m\u001b[0;34m)\u001b[0m\u001b[0;34m\u001b[0m\u001b[0;34m\u001b[0m\u001b[0m\n\u001b[0m\u001b[1;32m    800\u001b[0m     \u001b[0;32mtry\u001b[0m\u001b[0;34m:\u001b[0m\u001b[0;34m\u001b[0m\u001b[0;34m\u001b[0m\u001b[0m\n\u001b[1;32m    801\u001b[0m         \u001b[0;32mreturn\u001b[0m \u001b[0mvar\u001b[0m\u001b[0;34m.\u001b[0m\u001b[0msqrt\u001b[0m\u001b[0;34m(\u001b[0m\u001b[0;34m)\u001b[0m\u001b[0;34m\u001b[0m\u001b[0;34m\u001b[0m\u001b[0m\n",
      "\u001b[0;32m/usr/lib/python3.8/statistics.py\u001b[0m in \u001b[0;36mvariance\u001b[0;34m(data, xbar)\u001b[0m\n\u001b[1;32m    739\u001b[0m     \u001b[0mn\u001b[0m \u001b[0;34m=\u001b[0m \u001b[0mlen\u001b[0m\u001b[0;34m(\u001b[0m\u001b[0mdata\u001b[0m\u001b[0;34m)\u001b[0m\u001b[0;34m\u001b[0m\u001b[0;34m\u001b[0m\u001b[0m\n\u001b[1;32m    740\u001b[0m     \u001b[0;32mif\u001b[0m \u001b[0mn\u001b[0m \u001b[0;34m<\u001b[0m \u001b[0;36m2\u001b[0m\u001b[0;34m:\u001b[0m\u001b[0;34m\u001b[0m\u001b[0;34m\u001b[0m\u001b[0m\n\u001b[0;32m--> 741\u001b[0;31m         \u001b[0;32mraise\u001b[0m \u001b[0mStatisticsError\u001b[0m\u001b[0;34m(\u001b[0m\u001b[0;34m'variance requires at least two data points'\u001b[0m\u001b[0;34m)\u001b[0m\u001b[0;34m\u001b[0m\u001b[0;34m\u001b[0m\u001b[0m\n\u001b[0m\u001b[1;32m    742\u001b[0m     \u001b[0mT\u001b[0m\u001b[0;34m,\u001b[0m \u001b[0mss\u001b[0m \u001b[0;34m=\u001b[0m \u001b[0m_ss\u001b[0m\u001b[0;34m(\u001b[0m\u001b[0mdata\u001b[0m\u001b[0;34m,\u001b[0m \u001b[0mxbar\u001b[0m\u001b[0;34m)\u001b[0m\u001b[0;34m\u001b[0m\u001b[0;34m\u001b[0m\u001b[0m\n\u001b[1;32m    743\u001b[0m     \u001b[0;32mreturn\u001b[0m \u001b[0m_convert\u001b[0m\u001b[0;34m(\u001b[0m\u001b[0mss\u001b[0m\u001b[0;34m/\u001b[0m\u001b[0;34m(\u001b[0m\u001b[0mn\u001b[0m\u001b[0;34m-\u001b[0m\u001b[0;36m1\u001b[0m\u001b[0;34m)\u001b[0m\u001b[0;34m,\u001b[0m \u001b[0mT\u001b[0m\u001b[0;34m)\u001b[0m\u001b[0;34m\u001b[0m\u001b[0;34m\u001b[0m\u001b[0m\n",
      "\u001b[0;31mStatisticsError\u001b[0m: variance requires at least two data points"
     ]
    }
   ],
   "source": [
    "speedups = speedupRelevant['runtime-non'] / speedupRelevant['runtime-heur']\n",
    "statistics.stdev(speedups)"
   ]
  },
  {
   "cell_type": "markdown",
   "metadata": {},
   "source": [
    "Calculate the proportion of replicates that stagnated"
   ]
  },
  {
   "cell_type": "code",
   "execution_count": 106,
   "metadata": {},
   "outputs": [
    {
     "data": {
      "text/plain": [
       "0.95"
      ]
     },
     "execution_count": 106,
     "metadata": {},
     "output_type": "execute_result"
    }
   ],
   "source": [
    "# proportion stagnated\n",
    "len(results[results.stagnation == True])/len(results)"
   ]
  },
  {
   "cell_type": "markdown",
   "metadata": {},
   "source": [
    "Take a look at the distribution of speedups of non-stagnated replicates - the base for significance testing"
   ]
  },
  {
   "cell_type": "code",
   "execution_count": 27,
   "metadata": {},
   "outputs": [
    {
     "data": {
      "text/plain": [
       "(array([1., 0., 1., 2., 1., 3., 3., 0., 1., 4.]),\n",
       " array([0.79401828, 1.04954006, 1.30506184, 1.56058362, 1.81610541,\n",
       "        2.07162719, 2.32714897, 2.58267075, 2.83819253, 3.09371431,\n",
       "        3.3492361 ]),\n",
       " <a list of 10 Patch objects>)"
      ]
     },
     "execution_count": 27,
     "metadata": {},
     "output_type": "execute_result"
    },
    {
     "data": {
      "image/png": "[encoded data removed]",
      "text/plain": [
       "<Figure size 432x288 with 1 Axes>"
      ]
     },
     "metadata": {
      "needs_background": "light"
     },
     "output_type": "display_data"
    }
   ],
   "source": [
    "plt.hist(speedups)"
   ]
  },
  {
   "cell_type": "markdown",
   "metadata": {},
   "source": [
    "## Significance tests"
   ]
  },
  {
   "cell_type": "markdown",
   "metadata": {},
   "source": [
    "Use speedup for each replicate, only include the replicates that did not stagnate"
   ]
  },
  {
   "cell_type": "code",
   "execution_count": 68,
   "metadata": {},
   "outputs": [
    {
     "data": {
      "text/plain": [
       "0     2.500768\n",
       "1     3.296790\n",
       "2     2.526065\n",
       "4     1.987960\n",
       "6     1.683878\n",
       "7     3.293865\n",
       "8     2.154152\n",
       "9     3.349236\n",
       "12    2.244462\n",
       "13    0.794018\n",
       "14    2.244182\n",
       "15    1.324112\n",
       "16    2.382927\n",
       "17    3.206684\n",
       "18    1.652904\n",
       "19    2.858337\n",
       "dtype: float64"
      ]
     },
     "execution_count": 68,
     "metadata": {},
     "output_type": "execute_result"
    }
   ],
   "source": [
    "speedups"
   ]
  },
  {
   "cell_type": "markdown",
   "metadata": {},
   "source": [
    "We can use the ditribution of of our replicates to find the probability of getting reported result value"
   ]
  },
  {
   "cell_type": "code",
   "execution_count": 81,
   "metadata": {},
   "outputs": [],
   "source": [
    "# Take the value they reported and substitute it here\n",
    "REPORTED_SPEEDUP_VALUE = 3.05\n",
    "# significance level\n",
    "alpha = 0.05\n",
    "# seed for reproducibility\n",
    "seed = 12345"
   ]
  },
  {
   "cell_type": "markdown",
   "metadata": {},
   "source": [
    "### Approach 1: Using CLT to get normal distribution"
   ]
  },
  {
   "cell_type": "markdown",
   "metadata": {},
   "source": [
    "As the data might not be normal we sample and do mean"
   ]
  },
  {
   "cell_type": "code",
   "execution_count": 83,
   "metadata": {},
   "outputs": [
    {
     "data": {
      "text/plain": [
       "(array([ 16.,  26.,  82., 166., 209., 228., 160.,  84.,  23.,   6.]),\n",
       " array([2.03867736, 2.09988002, 2.16108269, 2.22228535, 2.28348802,\n",
       "        2.34469068, 2.40589334, 2.46709601, 2.52829867, 2.58950134,\n",
       "        2.650704  ]),\n",
       " <a list of 10 Patch objects>)"
      ]
     },
     "execution_count": 83,
     "metadata": {},
     "output_type": "execute_result"
    },
    {
     "data": {
      "image/png": "[encoded data removed]",
      "text/plain": [
       "<Figure size 432x288 with 1 Axes>"
      ]
     },
     "metadata": {
      "needs_background": "light"
     },
     "output_type": "display_data"
    }
   ],
   "source": [
    "import numpy as np\n",
    "\n",
    "# sample 50 items 1000 times\n",
    "n = 50\n",
    "sampleTimes = 1000\n",
    "\n",
    "sampleNumber = 0\n",
    "means = []\n",
    "while sampleNumber < sampleTimes: \n",
    "    sampleMean = np.mean(np.random.choice(speedups,n))\n",
    "    means.append(sampleMean)\n",
    "    sampleNumber += 1\n",
    "\n",
    "plt.hist(means)"
   ]
  },
  {
   "cell_type": "code",
   "execution_count": 84,
   "metadata": {},
   "outputs": [
    {
     "data": {
      "text/plain": [
       "1.6765508919142629"
      ]
     },
     "execution_count": 84,
     "metadata": {},
     "output_type": "execute_result"
    }
   ],
   "source": [
    "criticalValue = stats.t.ppf(1-alpha, n-1)\n",
    "criticalValue"
   ]
  },
  {
   "cell_type": "code",
   "execution_count": 97,
   "metadata": {},
   "outputs": [
    {
     "data": {
      "text/plain": [
       "2.1127584633298964e-33"
      ]
     },
     "execution_count": 97,
     "metadata": {},
     "output_type": "execute_result"
    }
   ],
   "source": [
    "overallMeasuredMean = np.mean(means)\n",
    "testStatistic = (overallMeasuredMean - REPORTED_SPEEDUP_VALUE)/(std/math.sqrt(1000))\n",
    "pValue = stats.t.sf(abs(testStatistic), df=n-1)\n",
    "# store the significance result for later\n",
    "cltApproachSignificant = pValue < alpha\n",
    "pValue"
   ]
  },
  {
   "cell_type": "markdown",
   "metadata": {},
   "source": [
    "### Approach 2: Assuming t-test assumptions are met"
   ]
  },
  {
   "cell_type": "markdown",
   "metadata": {},
   "source": [
    "Alternatively using the samples we have only, assuming t-test assumptions are met"
   ]
  },
  {
   "cell_type": "code",
   "execution_count": 86,
   "metadata": {},
   "outputs": [
    {
     "data": {
      "text/plain": [
       "0.7495431483975487"
      ]
     },
     "execution_count": 86,
     "metadata": {},
     "output_type": "execute_result"
    }
   ],
   "source": [
    "std = statistics.stdev(speedups)\n",
    "std"
   ]
  },
  {
   "cell_type": "code",
   "execution_count": 87,
   "metadata": {},
   "outputs": [
    {
     "name": "stdout",
     "output_type": "stream",
     "text": [
      "t-Test statistic: 5.044630943565985\n"
     ]
    }
   ],
   "source": [
    "N = len(speedups)\n",
    "\n",
    "testStatistic = (measuredSpeedup - REPORTED_SPEEDUP_VALUE)/(std/math.sqrt(N))\n",
    "print(\"t-Test statistic:\", abs(testStatistic))"
   ]
  },
  {
   "cell_type": "code",
   "execution_count": 98,
   "metadata": {},
   "outputs": [
    {
     "name": "stdout",
     "output_type": "stream",
     "text": [
      "Critical value for current statistic and alpha=0.05:  1.74588367627624\n",
      "P-value of their result coming from our distribution: 4.451289121556042e-15\n",
      "Significant difference - reject H0?:\n"
     ]
    }
   ],
   "source": [
    "criticalValue = stats.t.ppf(1-alpha, N)\n",
    "print(\"Critical value for current statistic and alpha=0.05: \", criticalValue)\n",
    "# calculate our p-value\n",
    "pValue = stats.t.sf(abs(testStatistic), df=N-1)\n",
    "print(\"P-value of their result coming from our distribution:\", pValue)\n",
    "# store significance level for later\n",
    "assumingSignificant =  pValue < alpha\n",
    "print(\"Significant difference - reject H0?:\",)"
   ]
  },
  {
   "cell_type": "markdown",
   "metadata": {},
   "source": [
    "## Verdict"
   ]
  },
  {
   "cell_type": "code",
   "execution_count": 99,
   "metadata": {},
   "outputs": [
    {
     "name": "stdout",
     "output_type": "stream",
     "text": [
      "Approach 1 significant: True\n",
      "Approach 2 significant: True\n"
     ]
    }
   ],
   "source": [
    "print(\"Approach 1 significant:\", cltApproachSignificant)\n",
    "print(\"Approach 2 significant:\", assumingSignificant)"
   ]
  }
 ],
 "metadata": {
  "kernelspec": {
   "display_name": "Python 3",
   "language": "python",
   "name": "python3"
  },
  "language_info": {
   "codemirror_mode": {
    "name": "ipython",
    "version": 3
   },
   "file_extension": ".py",
   "mimetype": "text/x-python",
   "name": "python",
   "nbconvert_exporter": "python",
   "pygments_lexer": "ipython3",
   "version": "3.8.6"
  }
 },
 "nbformat": 4,
 "nbformat_minor": 4
}
