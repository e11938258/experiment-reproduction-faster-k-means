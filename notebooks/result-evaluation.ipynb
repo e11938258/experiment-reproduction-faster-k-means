{
 "cells": [
  {
   "cell_type": "code",
   "execution_count": 92,
   "metadata": {},
   "outputs": [],
   "source": [
    "import pandas as pd\n",
    "import matplotlib.pyplot as plt \n",
    "import statistics\n",
    "import math\n",
    "from scipy import stats"
   ]
  },
  {
   "cell_type": "markdown",
   "metadata": {},
   "source": [
    "## Define which experiments results we want to examine"
   ]
  },
  {
   "cell_type": "code",
   "execution_count": 884,
   "metadata": {},
   "outputs": [],
   "source": [
    "RESULTS_FOLDER = \"../results/Covtype_1_MSE/\""
   ]
  },
  {
   "cell_type": "code",
   "execution_count": 1189,
   "metadata": {},
   "outputs": [],
   "source": [
    "FILENAME = \"covtype--triangle-1000-1-40-random\""
   ]
  },
  {
   "cell_type": "markdown",
   "metadata": {},
   "source": [
    "## Parse the custom output format into a dataframe"
   ]
  },
  {
   "cell_type": "code",
   "execution_count": 1190,
   "metadata": {},
   "outputs": [],
   "source": [
    "def parseNonHeuristic(line, columns):\n",
    "    # drop the brackets and \"non-heuristic,\" at the start\n",
    "    line = line[15:-1]\n",
    "    result = [element.lstrip() for element in line.split(\",\")] # remove whitespaces\n",
    "    df = pd.DataFrame([result], columns=columns)\n",
    "    return df\n",
    "\n",
    "def parseHeuristic(line, columns):\n",
    "    # drop the brackets\n",
    "    line = line[11:-1]\n",
    "    result = [element.lstrip() for element in line.split(\",\")] # remove whitespaces\n",
    "    df = pd.DataFrame([result], columns=columns)\n",
    "    return df\n",
    "\n",
    "def parseRunResult(result, nonHeuristicDf, heuristicDf):\n",
    "    line = line[1:-1]\n",
    "    runner = result[0].split(\":\")[0]\n",
    "    parseNonHeuristic(result[1])\n",
    "    print(\"Runner\", runner)\n",
    "    \n",
    "    return\n",
    "\n",
    "def readResultsFile(filename):\n",
    "    nonHeuristicDf = pd.DataFrame(columns=['runtime-non','mse-non','iterations-non'])\n",
    "    heuristicDf = pd.DataFrame(columns=['runtime-heur','mse-achieved','mse-heur','iterations-heur','pim','stagnation'])\n",
    "\n",
    "    with open(RESULTS_FOLDER + filename, 'r') as filehandle:\n",
    "        currentRunner = None\n",
    "        for line in filehandle:\n",
    "            line = line[:-1]\n",
    "            if \":\" in line:\n",
    "                currentRunner = line.split(\":\")[0]\n",
    "            elif line.startswith(\"non-heuristic\"):\n",
    "                parsedLine = parseNonHeuristic(line, list(nonHeuristicDf.columns)),  \n",
    "                nonHeuristicDf = nonHeuristicDf.append(parsedLine,ignore_index = True)\n",
    "            elif line.startswith(\"heuristic\"):\n",
    "                parsedLine = parseHeuristic(line, list(heuristicDf.columns)),  \n",
    "                heuristicDf = heuristicDf.append(parsedLine, ignore_index = True)\n",
    "            else:\n",
    "                raise Exception(\"Unknown line:\", line)\n",
    "    heuristicDf['runtime-heur'] =  heuristicDf['runtime-heur'].astype(float, errors = 'raise')\n",
    "    heuristicDf['iterations-heur'] = heuristicDf['iterations-heur'].astype(int)\n",
    "    heuristicDf['mse-achieved'] = heuristicDf['mse-achieved'].map(lambda x: x==\"True\")\n",
    "    heuristicDf['mse-achieved'] =  heuristicDf['mse-achieved'].astype('bool')\n",
    "    heuristicDf['stagnation'] = heuristicDf['stagnation'].map(lambda x: x==\"True\")\n",
    "    heuristicDf['stagnation'] =  heuristicDf['stagnation'].astype(bool)\n",
    "    nonHeuristicDf['runtime-non'] =  nonHeuristicDf['runtime-non'].astype(float, errors = 'raise')\n",
    "    nonHeuristicDf['iterations-non'] = nonHeuristicDf['iterations-non'].astype(int)\n",
    "\n",
    "    return nonHeuristicDf, heuristicDf\n",
    "\n",
    "nonHeuristicDf, heuristicDf = readResultsFile(FILENAME)"
   ]
  },
  {
   "cell_type": "code",
   "execution_count": 1191,
   "metadata": {},
   "outputs": [
    {
     "data": {
      "text/html": [
       "<div>\n",
       "<style scoped>\n",
       "    .dataframe tbody tr th:only-of-type {\n",
       "        vertical-align: middle;\n",
       "    }\n",
       "\n",
       "    .dataframe tbody tr th {\n",
       "        vertical-align: top;\n",
       "    }\n",
       "\n",
       "    .dataframe thead th {\n",
       "        text-align: right;\n",
       "    }\n",
       "</style>\n",
       "<table border=\"1\" class=\"dataframe\">\n",
       "  <thead>\n",
       "    <tr style=\"text-align: right;\">\n",
       "      <th></th>\n",
       "      <th>runtime-non</th>\n",
       "      <th>mse-non</th>\n",
       "      <th>iterations-non</th>\n",
       "      <th>runtime-heur</th>\n",
       "      <th>mse-achieved</th>\n",
       "      <th>mse-heur</th>\n",
       "      <th>iterations-heur</th>\n",
       "      <th>pim</th>\n",
       "      <th>stagnation</th>\n",
       "    </tr>\n",
       "  </thead>\n",
       "  <tbody>\n",
       "    <tr>\n",
       "      <th>0</th>\n",
       "      <td>1179.202</td>\n",
       "      <td>4223320695.8581324</td>\n",
       "      <td>7</td>\n",
       "      <td>979.878</td>\n",
       "      <td>True</td>\n",
       "      <td>4200577726.2894354</td>\n",
       "      <td>9</td>\n",
       "      <td>0</td>\n",
       "      <td>False</td>\n",
       "    </tr>\n",
       "    <tr>\n",
       "      <th>1</th>\n",
       "      <td>1182.956</td>\n",
       "      <td>4212861655.946151</td>\n",
       "      <td>7</td>\n",
       "      <td>946.185</td>\n",
       "      <td>True</td>\n",
       "      <td>4179669952.6400013</td>\n",
       "      <td>9</td>\n",
       "      <td>0</td>\n",
       "      <td>False</td>\n",
       "    </tr>\n",
       "    <tr>\n",
       "      <th>2</th>\n",
       "      <td>1141.743</td>\n",
       "      <td>4199281445.066827</td>\n",
       "      <td>7</td>\n",
       "      <td>972.589</td>\n",
       "      <td>True</td>\n",
       "      <td>4175117544.729352</td>\n",
       "      <td>10</td>\n",
       "      <td>0</td>\n",
       "      <td>False</td>\n",
       "    </tr>\n",
       "    <tr>\n",
       "      <th>3</th>\n",
       "      <td>1147.067</td>\n",
       "      <td>4203873801.742853</td>\n",
       "      <td>7</td>\n",
       "      <td>970.323</td>\n",
       "      <td>True</td>\n",
       "      <td>4172170387.647952</td>\n",
       "      <td>10</td>\n",
       "      <td>0</td>\n",
       "      <td>False</td>\n",
       "    </tr>\n",
       "    <tr>\n",
       "      <th>4</th>\n",
       "      <td>1176.158</td>\n",
       "      <td>4261435450.7216396</td>\n",
       "      <td>7</td>\n",
       "      <td>824.111</td>\n",
       "      <td>True</td>\n",
       "      <td>4203548760.3076577</td>\n",
       "      <td>7</td>\n",
       "      <td>0</td>\n",
       "      <td>False</td>\n",
       "    </tr>\n",
       "    <tr>\n",
       "      <th>5</th>\n",
       "      <td>1188.541</td>\n",
       "      <td>4212312926.7739615</td>\n",
       "      <td>7</td>\n",
       "      <td>951.113</td>\n",
       "      <td>True</td>\n",
       "      <td>4185073105.7516675</td>\n",
       "      <td>9</td>\n",
       "      <td>0</td>\n",
       "      <td>False</td>\n",
       "    </tr>\n",
       "    <tr>\n",
       "      <th>6</th>\n",
       "      <td>1182.836</td>\n",
       "      <td>4240813436.0044847</td>\n",
       "      <td>7</td>\n",
       "      <td>904.153</td>\n",
       "      <td>True</td>\n",
       "      <td>4194990675.129625</td>\n",
       "      <td>8</td>\n",
       "      <td>0</td>\n",
       "      <td>False</td>\n",
       "    </tr>\n",
       "    <tr>\n",
       "      <th>7</th>\n",
       "      <td>1206.185</td>\n",
       "      <td>4245378138.1183205</td>\n",
       "      <td>7</td>\n",
       "      <td>882.900</td>\n",
       "      <td>True</td>\n",
       "      <td>4218143928.764841</td>\n",
       "      <td>8</td>\n",
       "      <td>0</td>\n",
       "      <td>False</td>\n",
       "    </tr>\n",
       "    <tr>\n",
       "      <th>8</th>\n",
       "      <td>1152.430</td>\n",
       "      <td>4216949684.9174685</td>\n",
       "      <td>7</td>\n",
       "      <td>948.221</td>\n",
       "      <td>True</td>\n",
       "      <td>4179588577.755398</td>\n",
       "      <td>9</td>\n",
       "      <td>0</td>\n",
       "      <td>False</td>\n",
       "    </tr>\n",
       "    <tr>\n",
       "      <th>9</th>\n",
       "      <td>1201.214</td>\n",
       "      <td>4258739796.479126</td>\n",
       "      <td>7</td>\n",
       "      <td>844.113</td>\n",
       "      <td>True</td>\n",
       "      <td>4208703076.6070204</td>\n",
       "      <td>7</td>\n",
       "      <td>0</td>\n",
       "      <td>False</td>\n",
       "    </tr>\n",
       "  </tbody>\n",
       "</table>\n",
       "</div>"
      ],
      "text/plain": [
       "   runtime-non             mse-non  iterations-non  runtime-heur  \\\n",
       "0     1179.202  4223320695.8581324               7       979.878   \n",
       "1     1182.956   4212861655.946151               7       946.185   \n",
       "2     1141.743   4199281445.066827               7       972.589   \n",
       "3     1147.067   4203873801.742853               7       970.323   \n",
       "4     1176.158  4261435450.7216396               7       824.111   \n",
       "5     1188.541  4212312926.7739615               7       951.113   \n",
       "6     1182.836  4240813436.0044847               7       904.153   \n",
       "7     1206.185  4245378138.1183205               7       882.900   \n",
       "8     1152.430  4216949684.9174685               7       948.221   \n",
       "9     1201.214   4258739796.479126               7       844.113   \n",
       "\n",
       "   mse-achieved            mse-heur  iterations-heur pim  stagnation  \n",
       "0          True  4200577726.2894354                9   0       False  \n",
       "1          True  4179669952.6400013                9   0       False  \n",
       "2          True   4175117544.729352               10   0       False  \n",
       "3          True   4172170387.647952               10   0       False  \n",
       "4          True  4203548760.3076577                7   0       False  \n",
       "5          True  4185073105.7516675                9   0       False  \n",
       "6          True   4194990675.129625                8   0       False  \n",
       "7          True   4218143928.764841                8   0       False  \n",
       "8          True   4179588577.755398                9   0       False  \n",
       "9          True  4208703076.6070204                7   0       False  "
      ]
     },
     "execution_count": 1191,
     "metadata": {},
     "output_type": "execute_result"
    }
   ],
   "source": [
    "results = nonHeuristicDf.merge(heuristicDf, left_index=True, right_index=True)\n",
    "results"
   ]
  },
  {
   "cell_type": "markdown",
   "metadata": {},
   "source": [
    "# Calculate average speedup"
   ]
  },
  {
   "cell_type": "markdown",
   "metadata": {},
   "source": [
    "As stated in the report only take a look at the replicates that did not result in stagnation"
   ]
  },
  {
   "cell_type": "code",
   "execution_count": 1192,
   "metadata": {},
   "outputs": [
    {
     "data": {
      "text/html": [
       "<div>\n",
       "<style scoped>\n",
       "    .dataframe tbody tr th:only-of-type {\n",
       "        vertical-align: middle;\n",
       "    }\n",
       "\n",
       "    .dataframe tbody tr th {\n",
       "        vertical-align: top;\n",
       "    }\n",
       "\n",
       "    .dataframe thead th {\n",
       "        text-align: right;\n",
       "    }\n",
       "</style>\n",
       "<table border=\"1\" class=\"dataframe\">\n",
       "  <thead>\n",
       "    <tr style=\"text-align: right;\">\n",
       "      <th></th>\n",
       "      <th>runtime-non</th>\n",
       "      <th>mse-non</th>\n",
       "      <th>iterations-non</th>\n",
       "      <th>runtime-heur</th>\n",
       "      <th>mse-achieved</th>\n",
       "      <th>mse-heur</th>\n",
       "      <th>iterations-heur</th>\n",
       "      <th>pim</th>\n",
       "      <th>stagnation</th>\n",
       "    </tr>\n",
       "  </thead>\n",
       "  <tbody>\n",
       "    <tr>\n",
       "      <th>0</th>\n",
       "      <td>1179.202</td>\n",
       "      <td>4223320695.8581324</td>\n",
       "      <td>7</td>\n",
       "      <td>979.878</td>\n",
       "      <td>True</td>\n",
       "      <td>4200577726.2894354</td>\n",
       "      <td>9</td>\n",
       "      <td>0</td>\n",
       "      <td>False</td>\n",
       "    </tr>\n",
       "    <tr>\n",
       "      <th>1</th>\n",
       "      <td>1182.956</td>\n",
       "      <td>4212861655.946151</td>\n",
       "      <td>7</td>\n",
       "      <td>946.185</td>\n",
       "      <td>True</td>\n",
       "      <td>4179669952.6400013</td>\n",
       "      <td>9</td>\n",
       "      <td>0</td>\n",
       "      <td>False</td>\n",
       "    </tr>\n",
       "    <tr>\n",
       "      <th>2</th>\n",
       "      <td>1141.743</td>\n",
       "      <td>4199281445.066827</td>\n",
       "      <td>7</td>\n",
       "      <td>972.589</td>\n",
       "      <td>True</td>\n",
       "      <td>4175117544.729352</td>\n",
       "      <td>10</td>\n",
       "      <td>0</td>\n",
       "      <td>False</td>\n",
       "    </tr>\n",
       "    <tr>\n",
       "      <th>3</th>\n",
       "      <td>1147.067</td>\n",
       "      <td>4203873801.742853</td>\n",
       "      <td>7</td>\n",
       "      <td>970.323</td>\n",
       "      <td>True</td>\n",
       "      <td>4172170387.647952</td>\n",
       "      <td>10</td>\n",
       "      <td>0</td>\n",
       "      <td>False</td>\n",
       "    </tr>\n",
       "    <tr>\n",
       "      <th>4</th>\n",
       "      <td>1176.158</td>\n",
       "      <td>4261435450.7216396</td>\n",
       "      <td>7</td>\n",
       "      <td>824.111</td>\n",
       "      <td>True</td>\n",
       "      <td>4203548760.3076577</td>\n",
       "      <td>7</td>\n",
       "      <td>0</td>\n",
       "      <td>False</td>\n",
       "    </tr>\n",
       "    <tr>\n",
       "      <th>5</th>\n",
       "      <td>1188.541</td>\n",
       "      <td>4212312926.7739615</td>\n",
       "      <td>7</td>\n",
       "      <td>951.113</td>\n",
       "      <td>True</td>\n",
       "      <td>4185073105.7516675</td>\n",
       "      <td>9</td>\n",
       "      <td>0</td>\n",
       "      <td>False</td>\n",
       "    </tr>\n",
       "    <tr>\n",
       "      <th>6</th>\n",
       "      <td>1182.836</td>\n",
       "      <td>4240813436.0044847</td>\n",
       "      <td>7</td>\n",
       "      <td>904.153</td>\n",
       "      <td>True</td>\n",
       "      <td>4194990675.129625</td>\n",
       "      <td>8</td>\n",
       "      <td>0</td>\n",
       "      <td>False</td>\n",
       "    </tr>\n",
       "    <tr>\n",
       "      <th>7</th>\n",
       "      <td>1206.185</td>\n",
       "      <td>4245378138.1183205</td>\n",
       "      <td>7</td>\n",
       "      <td>882.900</td>\n",
       "      <td>True</td>\n",
       "      <td>4218143928.764841</td>\n",
       "      <td>8</td>\n",
       "      <td>0</td>\n",
       "      <td>False</td>\n",
       "    </tr>\n",
       "    <tr>\n",
       "      <th>8</th>\n",
       "      <td>1152.430</td>\n",
       "      <td>4216949684.9174685</td>\n",
       "      <td>7</td>\n",
       "      <td>948.221</td>\n",
       "      <td>True</td>\n",
       "      <td>4179588577.755398</td>\n",
       "      <td>9</td>\n",
       "      <td>0</td>\n",
       "      <td>False</td>\n",
       "    </tr>\n",
       "    <tr>\n",
       "      <th>9</th>\n",
       "      <td>1201.214</td>\n",
       "      <td>4258739796.479126</td>\n",
       "      <td>7</td>\n",
       "      <td>844.113</td>\n",
       "      <td>True</td>\n",
       "      <td>4208703076.6070204</td>\n",
       "      <td>7</td>\n",
       "      <td>0</td>\n",
       "      <td>False</td>\n",
       "    </tr>\n",
       "  </tbody>\n",
       "</table>\n",
       "</div>"
      ],
      "text/plain": [
       "   runtime-non             mse-non  iterations-non  runtime-heur  \\\n",
       "0     1179.202  4223320695.8581324               7       979.878   \n",
       "1     1182.956   4212861655.946151               7       946.185   \n",
       "2     1141.743   4199281445.066827               7       972.589   \n",
       "3     1147.067   4203873801.742853               7       970.323   \n",
       "4     1176.158  4261435450.7216396               7       824.111   \n",
       "5     1188.541  4212312926.7739615               7       951.113   \n",
       "6     1182.836  4240813436.0044847               7       904.153   \n",
       "7     1206.185  4245378138.1183205               7       882.900   \n",
       "8     1152.430  4216949684.9174685               7       948.221   \n",
       "9     1201.214   4258739796.479126               7       844.113   \n",
       "\n",
       "   mse-achieved            mse-heur  iterations-heur pim  stagnation  \n",
       "0          True  4200577726.2894354                9   0       False  \n",
       "1          True  4179669952.6400013                9   0       False  \n",
       "2          True   4175117544.729352               10   0       False  \n",
       "3          True   4172170387.647952               10   0       False  \n",
       "4          True  4203548760.3076577                7   0       False  \n",
       "5          True  4185073105.7516675                9   0       False  \n",
       "6          True   4194990675.129625                8   0       False  \n",
       "7          True   4218143928.764841                8   0       False  \n",
       "8          True   4179588577.755398                9   0       False  \n",
       "9          True  4208703076.6070204                7   0       False  "
      ]
     },
     "execution_count": 1192,
     "metadata": {},
     "output_type": "execute_result"
    }
   ],
   "source": [
    "speedupRelevant = results[results.stagnation == False]\n",
    "speedupRelevant"
   ]
  },
  {
   "cell_type": "markdown",
   "metadata": {},
   "source": [
    "Calculate the average speedup across all non-stagnated replicates ('Measured speedup' value reported in the report)"
   ]
  },
  {
   "cell_type": "code",
   "execution_count": 1193,
   "metadata": {},
   "outputs": [
    {
     "data": {
      "text/plain": [
       "1.2748113369092016"
      ]
     },
     "execution_count": 1193,
     "metadata": {},
     "output_type": "execute_result"
    }
   ],
   "source": [
    "# speedup of the heuristic method\n",
    "measuredSpeedup = speedupRelevant['runtime-non'].sum()/speedupRelevant['runtime-heur'].sum()\n",
    "measuredSpeedup"
   ]
  },
  {
   "cell_type": "markdown",
   "metadata": {},
   "source": [
    "Calculate the standard deviation of speedup (note that this will not be possible if we don't have at least 2 replicates that didn't stagnate)"
   ]
  },
  {
   "cell_type": "code",
   "execution_count": 1194,
   "metadata": {},
   "outputs": [],
   "source": [
    "if(len(speedupRelevant) < 2):\n",
    "    raise Exception(\"Should not continue only a single non-stagnated replicate was found\")"
   ]
  },
  {
   "cell_type": "code",
   "execution_count": 1195,
   "metadata": {},
   "outputs": [
    {
     "data": {
      "text/plain": [
       "0.09604707362298062"
      ]
     },
     "execution_count": 1195,
     "metadata": {},
     "output_type": "execute_result"
    }
   ],
   "source": [
    "speedups = speedupRelevant['runtime-non'] / speedupRelevant['runtime-heur']\n",
    "statistics.stdev(speedups)"
   ]
  },
  {
   "cell_type": "markdown",
   "metadata": {},
   "source": [
    "Calculate the proportion of replicates that stagnated"
   ]
  },
  {
   "cell_type": "code",
   "execution_count": 1196,
   "metadata": {},
   "outputs": [
    {
     "data": {
      "text/plain": [
       "0.0"
      ]
     },
     "execution_count": 1196,
     "metadata": {},
     "output_type": "execute_result"
    }
   ],
   "source": [
    "# proportion stagnated\n",
    "len(results[results.stagnation == True])/len(results)"
   ]
  },
  {
   "cell_type": "markdown",
   "metadata": {},
   "source": [
    "Take a look at the distribution of speedups of non-stagnated replicates - the base for significance testing"
   ]
  },
  {
   "cell_type": "code",
   "execution_count": 1197,
   "metadata": {},
   "outputs": [
    {
     "data": {
      "text/plain": [
       "(array([2., 2., 1., 1., 0., 1., 0., 1., 0., 2.]),\n",
       " array([1.17392136, 1.19924762, 1.22457388, 1.24990014, 1.2752264 ,\n",
       "        1.30055266, 1.32587892, 1.35120518, 1.37653144, 1.4018577 ,\n",
       "        1.42718396]),\n",
       " <a list of 10 Patch objects>)"
      ]
     },
     "execution_count": 1197,
     "metadata": {},
     "output_type": "execute_result"
    },
    {
     "data": {
      "image/png": "[encoded data removed]",
      "text/plain": [
       "<Figure size 432x288 with 1 Axes>"
      ]
     },
     "metadata": {
      "needs_background": "light"
     },
     "output_type": "display_data"
    }
   ],
   "source": [
    "plt.hist(speedups)"
   ]
  },
  {
   "cell_type": "markdown",
   "metadata": {},
   "source": [
    "## Significance tests"
   ]
  },
  {
   "cell_type": "markdown",
   "metadata": {},
   "source": [
    "Use speedup for each replicate, only include the replicates that did not stagnate"
   ]
  },
  {
   "cell_type": "code",
   "execution_count": 1198,
   "metadata": {},
   "outputs": [
    {
     "data": {
      "text/plain": [
       "0    1.203417\n",
       "1    1.250238\n",
       "2    1.173921\n",
       "3    1.182150\n",
       "4    1.427184\n",
       "5    1.249632\n",
       "6    1.308225\n",
       "7    1.366163\n",
       "8    1.215360\n",
       "9    1.423049\n",
       "dtype: float64"
      ]
     },
     "execution_count": 1198,
     "metadata": {},
     "output_type": "execute_result"
    }
   ],
   "source": [
    "speedups"
   ]
  },
  {
   "cell_type": "markdown",
   "metadata": {},
   "source": [
    "We can use the ditribution of of our replicates to find the probability of getting reported result value"
   ]
  },
  {
   "cell_type": "code",
   "execution_count": 1199,
   "metadata": {},
   "outputs": [],
   "source": [
    "# Take the value they reported and substitute it here\n",
    "REPORTED_SPEEDUP_VALUE = 3.05\n",
    "# significance level\n",
    "alpha = 0.05\n",
    "# seed for reproducibility\n",
    "seed = 12345"
   ]
  },
  {
   "cell_type": "markdown",
   "metadata": {},
   "source": [
    "### Approach 1: Using CLT to get normal distribution"
   ]
  },
  {
   "cell_type": "markdown",
   "metadata": {},
   "source": [
    "As the data might not be normal we sample and do mean, note that higher replicate counts should be used to run the experiment so that we have more values to sample from."
   ]
  },
  {
   "cell_type": "code",
   "execution_count": 1200,
   "metadata": {},
   "outputs": [
    {
     "data": {
      "text/plain": [
       "(array([  4.,  44., 116., 221., 266., 176., 122.,  42.,   8.,   1.]),\n",
       " array([1.24045287, 1.2492676 , 1.25808234, 1.26689707, 1.27571181,\n",
       "        1.28452654, 1.29334127, 1.30215601, 1.31097074, 1.31978548,\n",
       "        1.32860021]),\n",
       " <a list of 10 Patch objects>)"
      ]
     },
     "execution_count": 1200,
     "metadata": {},
     "output_type": "execute_result"
    },
    {
     "data": {
      "image/png": "[encoded data removed]",
      "text/plain": [
       "<Figure size 432x288 with 1 Axes>"
      ]
     },
     "metadata": {
      "needs_background": "light"
     },
     "output_type": "display_data"
    }
   ],
   "source": [
    "import numpy as np\n",
    "\n",
    "# sample 50 items 1000 times\n",
    "n = 50\n",
    "sampleTimes = 1000\n",
    "\n",
    "sampleNumber = 0\n",
    "means = []\n",
    "while sampleNumber < sampleTimes: \n",
    "    sampleMean = np.mean(np.random.choice(speedups,n))\n",
    "    means.append(sampleMean)\n",
    "    sampleNumber += 1\n",
    "\n",
    "plt.hist(means)"
   ]
  },
  {
   "cell_type": "markdown",
   "metadata": {},
   "source": [
    "Calculate the critical value for our significance level to compare the t-statistic to:"
   ]
  },
  {
   "cell_type": "code",
   "execution_count": 1201,
   "metadata": {},
   "outputs": [
    {
     "data": {
      "text/plain": [
       "1.6765508919142629"
      ]
     },
     "execution_count": 1201,
     "metadata": {},
     "output_type": "execute_result"
    }
   ],
   "source": [
    "criticalValue = stats.t.ppf(1-alpha, n-1)\n",
    "criticalValue"
   ]
  },
  {
   "cell_type": "markdown",
   "metadata": {},
   "source": [
    "Calculate the test statistic for the difference of our overall mean and the reported mean"
   ]
  },
  {
   "cell_type": "code",
   "execution_count": 1202,
   "metadata": {},
   "outputs": [
    {
     "data": {
      "text/plain": [
       "2285.376603365268"
      ]
     },
     "execution_count": 1202,
     "metadata": {},
     "output_type": "execute_result"
    }
   ],
   "source": [
    "overallMeasuredMean = np.mean(means)\n",
    "testStatistic = (overallMeasuredMean - REPORTED_SPEEDUP_VALUE)/(std/math.sqrt(1000))\n",
    "abs(testStatistic)"
   ]
  },
  {
   "cell_type": "markdown",
   "metadata": {},
   "source": [
    "And now calculate the p-value of the testStatistic"
   ]
  },
  {
   "cell_type": "code",
   "execution_count": 1203,
   "metadata": {},
   "outputs": [
    {
     "data": {
      "text/plain": [
       "3.7529382243664606e-125"
      ]
     },
     "execution_count": 1203,
     "metadata": {},
     "output_type": "execute_result"
    }
   ],
   "source": [
    "pValue = stats.t.sf(abs(testStatistic), df=n-1)\n",
    "# store the significance result for later\n",
    "cltApproachSignificant = pValue < alpha\n",
    "pValue"
   ]
  },
  {
   "cell_type": "markdown",
   "metadata": {},
   "source": [
    "### Approach 2: Assuming t-test assumptions are met"
   ]
  },
  {
   "cell_type": "markdown",
   "metadata": {},
   "source": [
    "Alternatively using the samples we have only, assuming t-test assumptions are met"
   ]
  },
  {
   "cell_type": "code",
   "execution_count": 1204,
   "metadata": {},
   "outputs": [
    {
     "data": {
      "text/plain": [
       "0.09604707362298062"
      ]
     },
     "execution_count": 1204,
     "metadata": {},
     "output_type": "execute_result"
    }
   ],
   "source": [
    "std = statistics.stdev(speedups)\n",
    "std"
   ]
  },
  {
   "cell_type": "code",
   "execution_count": 1205,
   "metadata": {},
   "outputs": [
    {
     "name": "stdout",
     "output_type": "stream",
     "text": [
      "t-Test statistic: 58.44675157841624\n"
     ]
    }
   ],
   "source": [
    "N = len(speedups)\n",
    "\n",
    "testStatistic = (measuredSpeedup - REPORTED_SPEEDUP_VALUE)/(std/math.sqrt(N))\n",
    "print(\"t-Test statistic:\", abs(testStatistic))"
   ]
  },
  {
   "cell_type": "code",
   "execution_count": 1206,
   "metadata": {},
   "outputs": [
    {
     "name": "stdout",
     "output_type": "stream",
     "text": [
      "Critical value for current statistic and alpha=0.05:  1.8124611228107335\n",
      "P-value of their result coming from our distribution: 3.1646277820030023e-13\n",
      "Significant difference - reject H0?: True\n"
     ]
    }
   ],
   "source": [
    "criticalValue = stats.t.ppf(1-alpha, N)\n",
    "print(\"Critical value for current statistic and alpha=0.05: \", criticalValue)\n",
    "# calculate our p-value\n",
    "pValue = stats.t.sf(abs(testStatistic), df=N-1)\n",
    "print(\"P-value of their result coming from our distribution:\", pValue)\n",
    "# store significance level for later\n",
    "assumingSignificant =  pValue < alpha\n",
    "print(\"Significant difference - reject H0?:\", assumingSignificant)"
   ]
  },
  {
   "cell_type": "markdown",
   "metadata": {},
   "source": [
    "## Verdict"
   ]
  },
  {
   "cell_type": "code",
   "execution_count": 1207,
   "metadata": {},
   "outputs": [
    {
     "name": "stdout",
     "output_type": "stream",
     "text": [
      "Approach 1 significant: True\n",
      "Approach 2 significant: True\n"
     ]
    }
   ],
   "source": [
    "print(\"Approach 1 significant:\", cltApproachSignificant)\n",
    "print(\"Approach 2 significant:\", assumingSignificant)"
   ]
  }
 ],
 "metadata": {
  "kernelspec": {
   "display_name": "Python 3",
   "language": "python",
   "name": "python3"
  },
  "language_info": {
   "codemirror_mode": {
    "name": "ipython",
    "version": 3
   },
   "file_extension": ".py",
   "mimetype": "text/x-python",
   "name": "python",
   "nbconvert_exporter": "python",
   "pygments_lexer": "ipython3",
   "version": "3.8.6"
  }
 },
 "nbformat": 4,
 "nbformat_minor": 4
}
