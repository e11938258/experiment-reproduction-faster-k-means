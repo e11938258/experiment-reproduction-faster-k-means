{
 "cells": [
  {
   "cell_type": "code",
   "execution_count": 92,
   "metadata": {},
   "outputs": [],
   "source": [
    "import pandas as pd\n",
    "import matplotlib.pyplot as plt \n",
    "import statistics\n",
    "import math\n",
    "from scipy import stats"
   ]
  },
  {
   "cell_type": "markdown",
   "metadata": {},
   "source": [
    "## Define which experiments results we want to examine"
   ]
  },
  {
   "cell_type": "code",
   "execution_count": 8,
   "metadata": {},
   "outputs": [],
   "source": [
    "RESULTS_FOLDER = \"../results/Filip/Birch_1_MSE/\""
   ]
  },
  {
   "cell_type": "code",
   "execution_count": 108,
   "metadata": {},
   "outputs": [],
   "source": [
    "FILENAME = \"birch--triangle-100-1-30-KPP\""
   ]
  },
  {
   "cell_type": "markdown",
   "metadata": {},
   "source": [
    "## Parse the custom output format into a dataframe"
   ]
  },
  {
   "cell_type": "code",
   "execution_count": 109,
   "metadata": {},
   "outputs": [],
   "source": [
    "def parseNonHeuristic(line, columns):\n",
    "    # drop the brackets and \"non-heuristic,\" at the start\n",
    "    line = line[15:-1]\n",
    "    result = [element.lstrip() for element in line.split(\",\")] # remove whitespaces\n",
    "    df = pd.DataFrame([result], columns=columns)\n",
    "    return df\n",
    "\n",
    "def parseHeuristic(line, columns):\n",
    "    # drop the brackets\n",
    "    line = line[11:-1]\n",
    "    result = [element.lstrip() for element in line.split(\",\")] # remove whitespaces\n",
    "    df = pd.DataFrame([result], columns=columns)\n",
    "    return df\n",
    "\n",
    "def parseRunResult(result, nonHeuristicDf, heuristicDf):\n",
    "    line = line[1:-1]\n",
    "    runner = result[0].split(\":\")[0]\n",
    "    parseNonHeuristic(result[1])\n",
    "    print(\"Runner\", runner)\n",
    "    \n",
    "    return\n",
    "\n",
    "def readResultsFile(filename):\n",
    "    nonHeuristicDf = pd.DataFrame(columns=['runtime-non','mse-non','iterations-non'])\n",
    "    heuristicDf = pd.DataFrame(columns=['runtime-heur','mse-achieved','mse-heur','iterations-heur','pim','stagnation'])\n",
    "\n",
    "    with open(RESULTS_FOLDER + filename, 'r') as filehandle:\n",
    "        currentRunner = None\n",
    "        for line in filehandle:\n",
    "            line = line[:-1]\n",
    "            if \":\" in line:\n",
    "                currentRunner = line.split(\":\")[0]\n",
    "            elif line.startswith(\"non-heuristic\"):\n",
    "                parsedLine = parseNonHeuristic(line, list(nonHeuristicDf.columns)),  \n",
    "                nonHeuristicDf = nonHeuristicDf.append(parsedLine,ignore_index = True)\n",
    "            elif line.startswith(\"heuristic\"):\n",
    "                parsedLine = parseHeuristic(line, list(heuristicDf.columns)),  \n",
    "                heuristicDf = heuristicDf.append(parsedLine, ignore_index = True)\n",
    "            else:\n",
    "                raise Exception(\"Unknown line:\", line)\n",
    "    heuristicDf['runtime-heur'] =  heuristicDf['runtime-heur'].astype(float, errors = 'raise')\n",
    "    heuristicDf['iterations-heur'] = heuristicDf['iterations-heur'].astype(int)\n",
    "    heuristicDf['mse-achieved'] = heuristicDf['mse-achieved'].map(lambda x: x==\"True\")\n",
    "    heuristicDf['mse-achieved'] =  heuristicDf['mse-achieved'].astype('bool')\n",
    "    heuristicDf['stagnation'] = heuristicDf['stagnation'].map(lambda x: x==\"True\")\n",
    "    heuristicDf['stagnation'] =  heuristicDf['stagnation'].astype(bool)\n",
    "    nonHeuristicDf['runtime-non'] =  nonHeuristicDf['runtime-non'].astype(float, errors = 'raise')\n",
    "    nonHeuristicDf['iterations-non'] = nonHeuristicDf['iterations-non'].astype(int)\n",
    "\n",
    "    return nonHeuristicDf, heuristicDf\n",
    "\n",
    "nonHeuristicDf, heuristicDf = readResultsFile(FILENAME)"
   ]
  },
  {
   "cell_type": "code",
   "execution_count": 110,
   "metadata": {},
   "outputs": [
    {
     "data": {
      "text/html": [
       "<div>\n",
       "<style scoped>\n",
       "    .dataframe tbody tr th:only-of-type {\n",
       "        vertical-align: middle;\n",
       "    }\n",
       "\n",
       "    .dataframe tbody tr th {\n",
       "        vertical-align: top;\n",
       "    }\n",
       "\n",
       "    .dataframe thead th {\n",
       "        text-align: right;\n",
       "    }\n",
       "</style>\n",
       "<table border=\"1\" class=\"dataframe\">\n",
       "  <thead>\n",
       "    <tr style=\"text-align: right;\">\n",
       "      <th></th>\n",
       "      <th>runtime-non</th>\n",
       "      <th>mse-non</th>\n",
       "      <th>iterations-non</th>\n",
       "      <th>runtime-heur</th>\n",
       "      <th>mse-achieved</th>\n",
       "      <th>mse-heur</th>\n",
       "      <th>iterations-heur</th>\n",
       "      <th>pim</th>\n",
       "      <th>stagnation</th>\n",
       "    </tr>\n",
       "  </thead>\n",
       "  <tbody>\n",
       "    <tr>\n",
       "      <th>0</th>\n",
       "      <td>41.230</td>\n",
       "      <td>7555121402681213.0</td>\n",
       "      <td>3</td>\n",
       "      <td>46.687</td>\n",
       "      <td>False</td>\n",
       "      <td>7595745370542500.0</td>\n",
       "      <td>10</td>\n",
       "      <td>0</td>\n",
       "      <td>True</td>\n",
       "    </tr>\n",
       "    <tr>\n",
       "      <th>1</th>\n",
       "      <td>42.114</td>\n",
       "      <td>7118603690137939.0</td>\n",
       "      <td>3</td>\n",
       "      <td>42.549</td>\n",
       "      <td>False</td>\n",
       "      <td>7354336981803098.0</td>\n",
       "      <td>8</td>\n",
       "      <td>0</td>\n",
       "      <td>True</td>\n",
       "    </tr>\n",
       "    <tr>\n",
       "      <th>2</th>\n",
       "      <td>41.139</td>\n",
       "      <td>7471656995559620.0</td>\n",
       "      <td>3</td>\n",
       "      <td>43.725</td>\n",
       "      <td>False</td>\n",
       "      <td>7536392093118617.0</td>\n",
       "      <td>9</td>\n",
       "      <td>0</td>\n",
       "      <td>True</td>\n",
       "    </tr>\n",
       "    <tr>\n",
       "      <th>3</th>\n",
       "      <td>42.281</td>\n",
       "      <td>7102837747628732.0</td>\n",
       "      <td>3</td>\n",
       "      <td>50.265</td>\n",
       "      <td>False</td>\n",
       "      <td>7191759721768385.0</td>\n",
       "      <td>12</td>\n",
       "      <td>0</td>\n",
       "      <td>True</td>\n",
       "    </tr>\n",
       "    <tr>\n",
       "      <th>4</th>\n",
       "      <td>42.996</td>\n",
       "      <td>7058006844292015.0</td>\n",
       "      <td>3</td>\n",
       "      <td>35.162</td>\n",
       "      <td>True</td>\n",
       "      <td>6985813765363247.0</td>\n",
       "      <td>4</td>\n",
       "      <td>0</td>\n",
       "      <td>False</td>\n",
       "    </tr>\n",
       "    <tr>\n",
       "      <th>5</th>\n",
       "      <td>41.813</td>\n",
       "      <td>7545158343796849.0</td>\n",
       "      <td>3</td>\n",
       "      <td>52.160</td>\n",
       "      <td>False</td>\n",
       "      <td>7692818071105242.0</td>\n",
       "      <td>13</td>\n",
       "      <td>0</td>\n",
       "      <td>True</td>\n",
       "    </tr>\n",
       "    <tr>\n",
       "      <th>6</th>\n",
       "      <td>36.343</td>\n",
       "      <td>7488260196904191.0</td>\n",
       "      <td>2</td>\n",
       "      <td>51.490</td>\n",
       "      <td>True</td>\n",
       "      <td>7476946432685730.0</td>\n",
       "      <td>12</td>\n",
       "      <td>0</td>\n",
       "      <td>True</td>\n",
       "    </tr>\n",
       "    <tr>\n",
       "      <th>7</th>\n",
       "      <td>42.384</td>\n",
       "      <td>7077790374988274.0</td>\n",
       "      <td>3</td>\n",
       "      <td>44.480</td>\n",
       "      <td>False</td>\n",
       "      <td>7228456969975715.0</td>\n",
       "      <td>9</td>\n",
       "      <td>0</td>\n",
       "      <td>True</td>\n",
       "    </tr>\n",
       "    <tr>\n",
       "      <th>8</th>\n",
       "      <td>48.525</td>\n",
       "      <td>6654166584011030.0</td>\n",
       "      <td>4</td>\n",
       "      <td>50.249</td>\n",
       "      <td>False</td>\n",
       "      <td>6750767956937637.0</td>\n",
       "      <td>11</td>\n",
       "      <td>0</td>\n",
       "      <td>True</td>\n",
       "    </tr>\n",
       "    <tr>\n",
       "      <th>9</th>\n",
       "      <td>34.972</td>\n",
       "      <td>7812008189999046.0</td>\n",
       "      <td>2</td>\n",
       "      <td>44.946</td>\n",
       "      <td>False</td>\n",
       "      <td>7952412474550481.0</td>\n",
       "      <td>10</td>\n",
       "      <td>0</td>\n",
       "      <td>True</td>\n",
       "    </tr>\n",
       "    <tr>\n",
       "      <th>10</th>\n",
       "      <td>41.825</td>\n",
       "      <td>7084478790829596.0</td>\n",
       "      <td>3</td>\n",
       "      <td>51.152</td>\n",
       "      <td>False</td>\n",
       "      <td>7117578135204645.0</td>\n",
       "      <td>12</td>\n",
       "      <td>0</td>\n",
       "      <td>True</td>\n",
       "    </tr>\n",
       "    <tr>\n",
       "      <th>11</th>\n",
       "      <td>34.574</td>\n",
       "      <td>8366736159081176.0</td>\n",
       "      <td>2</td>\n",
       "      <td>34.495</td>\n",
       "      <td>False</td>\n",
       "      <td>8540044075291697.0</td>\n",
       "      <td>5</td>\n",
       "      <td>0</td>\n",
       "      <td>True</td>\n",
       "    </tr>\n",
       "    <tr>\n",
       "      <th>12</th>\n",
       "      <td>47.907</td>\n",
       "      <td>6941300252847400.0</td>\n",
       "      <td>4</td>\n",
       "      <td>45.347</td>\n",
       "      <td>True</td>\n",
       "      <td>6907030011649010.0</td>\n",
       "      <td>9</td>\n",
       "      <td>0</td>\n",
       "      <td>False</td>\n",
       "    </tr>\n",
       "    <tr>\n",
       "      <th>13</th>\n",
       "      <td>41.552</td>\n",
       "      <td>7346862039544420.0</td>\n",
       "      <td>3</td>\n",
       "      <td>37.536</td>\n",
       "      <td>False</td>\n",
       "      <td>7566126332682393.0</td>\n",
       "      <td>6</td>\n",
       "      <td>0</td>\n",
       "      <td>True</td>\n",
       "    </tr>\n",
       "    <tr>\n",
       "      <th>14</th>\n",
       "      <td>42.507</td>\n",
       "      <td>7106876625489659.0</td>\n",
       "      <td>3</td>\n",
       "      <td>42.410</td>\n",
       "      <td>False</td>\n",
       "      <td>7183281705438234.0</td>\n",
       "      <td>8</td>\n",
       "      <td>0</td>\n",
       "      <td>True</td>\n",
       "    </tr>\n",
       "    <tr>\n",
       "      <th>15</th>\n",
       "      <td>40.285</td>\n",
       "      <td>7666082508348904.0</td>\n",
       "      <td>3</td>\n",
       "      <td>41.914</td>\n",
       "      <td>False</td>\n",
       "      <td>7768048997343238.0</td>\n",
       "      <td>8</td>\n",
       "      <td>0</td>\n",
       "      <td>True</td>\n",
       "    </tr>\n",
       "    <tr>\n",
       "      <th>16</th>\n",
       "      <td>41.435</td>\n",
       "      <td>7488612043540054.0</td>\n",
       "      <td>3</td>\n",
       "      <td>32.964</td>\n",
       "      <td>True</td>\n",
       "      <td>7409027903728504.0</td>\n",
       "      <td>3</td>\n",
       "      <td>0</td>\n",
       "      <td>False</td>\n",
       "    </tr>\n",
       "    <tr>\n",
       "      <th>17</th>\n",
       "      <td>39.684</td>\n",
       "      <td>8151804105602622.0</td>\n",
       "      <td>3</td>\n",
       "      <td>32.933</td>\n",
       "      <td>False</td>\n",
       "      <td>8499909531318953.0</td>\n",
       "      <td>4</td>\n",
       "      <td>0</td>\n",
       "      <td>True</td>\n",
       "    </tr>\n",
       "    <tr>\n",
       "      <th>18</th>\n",
       "      <td>40.161</td>\n",
       "      <td>7705833628414572.0</td>\n",
       "      <td>3</td>\n",
       "      <td>32.586</td>\n",
       "      <td>False</td>\n",
       "      <td>8134802742391573.0</td>\n",
       "      <td>4</td>\n",
       "      <td>0</td>\n",
       "      <td>True</td>\n",
       "    </tr>\n",
       "    <tr>\n",
       "      <th>19</th>\n",
       "      <td>41.423</td>\n",
       "      <td>7621609133199080.0</td>\n",
       "      <td>3</td>\n",
       "      <td>40.281</td>\n",
       "      <td>False</td>\n",
       "      <td>7805423378636175.0</td>\n",
       "      <td>7</td>\n",
       "      <td>0</td>\n",
       "      <td>True</td>\n",
       "    </tr>\n",
       "  </tbody>\n",
       "</table>\n",
       "</div>"
      ],
      "text/plain": [
       "    runtime-non             mse-non  iterations-non  runtime-heur  \\\n",
       "0        41.230  7555121402681213.0               3        46.687   \n",
       "1        42.114  7118603690137939.0               3        42.549   \n",
       "2        41.139  7471656995559620.0               3        43.725   \n",
       "3        42.281  7102837747628732.0               3        50.265   \n",
       "4        42.996  7058006844292015.0               3        35.162   \n",
       "5        41.813  7545158343796849.0               3        52.160   \n",
       "6        36.343  7488260196904191.0               2        51.490   \n",
       "7        42.384  7077790374988274.0               3        44.480   \n",
       "8        48.525  6654166584011030.0               4        50.249   \n",
       "9        34.972  7812008189999046.0               2        44.946   \n",
       "10       41.825  7084478790829596.0               3        51.152   \n",
       "11       34.574  8366736159081176.0               2        34.495   \n",
       "12       47.907  6941300252847400.0               4        45.347   \n",
       "13       41.552  7346862039544420.0               3        37.536   \n",
       "14       42.507  7106876625489659.0               3        42.410   \n",
       "15       40.285  7666082508348904.0               3        41.914   \n",
       "16       41.435  7488612043540054.0               3        32.964   \n",
       "17       39.684  8151804105602622.0               3        32.933   \n",
       "18       40.161  7705833628414572.0               3        32.586   \n",
       "19       41.423  7621609133199080.0               3        40.281   \n",
       "\n",
       "    mse-achieved            mse-heur  iterations-heur pim  stagnation  \n",
       "0          False  7595745370542500.0               10   0        True  \n",
       "1          False  7354336981803098.0                8   0        True  \n",
       "2          False  7536392093118617.0                9   0        True  \n",
       "3          False  7191759721768385.0               12   0        True  \n",
       "4           True  6985813765363247.0                4   0       False  \n",
       "5          False  7692818071105242.0               13   0        True  \n",
       "6           True  7476946432685730.0               12   0        True  \n",
       "7          False  7228456969975715.0                9   0        True  \n",
       "8          False  6750767956937637.0               11   0        True  \n",
       "9          False  7952412474550481.0               10   0        True  \n",
       "10         False  7117578135204645.0               12   0        True  \n",
       "11         False  8540044075291697.0                5   0        True  \n",
       "12          True  6907030011649010.0                9   0       False  \n",
       "13         False  7566126332682393.0                6   0        True  \n",
       "14         False  7183281705438234.0                8   0        True  \n",
       "15         False  7768048997343238.0                8   0        True  \n",
       "16          True  7409027903728504.0                3   0       False  \n",
       "17         False  8499909531318953.0                4   0        True  \n",
       "18         False  8134802742391573.0                4   0        True  \n",
       "19         False  7805423378636175.0                7   0        True  "
      ]
     },
     "execution_count": 110,
     "metadata": {},
     "output_type": "execute_result"
    }
   ],
   "source": [
    "results = nonHeuristicDf.merge(heuristicDf, left_index=True, right_index=True)\n",
    "results"
   ]
  },
  {
   "cell_type": "markdown",
   "metadata": {},
   "source": [
    "# Calculate average speedup"
   ]
  },
  {
   "cell_type": "markdown",
   "metadata": {},
   "source": [
    "As stated in the report only take a look at the replicates that did not result in stagnation"
   ]
  },
  {
   "cell_type": "code",
   "execution_count": 111,
   "metadata": {},
   "outputs": [
    {
     "data": {
      "text/html": [
       "<div>\n",
       "<style scoped>\n",
       "    .dataframe tbody tr th:only-of-type {\n",
       "        vertical-align: middle;\n",
       "    }\n",
       "\n",
       "    .dataframe tbody tr th {\n",
       "        vertical-align: top;\n",
       "    }\n",
       "\n",
       "    .dataframe thead th {\n",
       "        text-align: right;\n",
       "    }\n",
       "</style>\n",
       "<table border=\"1\" class=\"dataframe\">\n",
       "  <thead>\n",
       "    <tr style=\"text-align: right;\">\n",
       "      <th></th>\n",
       "      <th>runtime-non</th>\n",
       "      <th>mse-non</th>\n",
       "      <th>iterations-non</th>\n",
       "      <th>runtime-heur</th>\n",
       "      <th>mse-achieved</th>\n",
       "      <th>mse-heur</th>\n",
       "      <th>iterations-heur</th>\n",
       "      <th>pim</th>\n",
       "      <th>stagnation</th>\n",
       "    </tr>\n",
       "  </thead>\n",
       "  <tbody>\n",
       "    <tr>\n",
       "      <th>4</th>\n",
       "      <td>42.996</td>\n",
       "      <td>7058006844292015.0</td>\n",
       "      <td>3</td>\n",
       "      <td>35.162</td>\n",
       "      <td>True</td>\n",
       "      <td>6985813765363247.0</td>\n",
       "      <td>4</td>\n",
       "      <td>0</td>\n",
       "      <td>False</td>\n",
       "    </tr>\n",
       "    <tr>\n",
       "      <th>12</th>\n",
       "      <td>47.907</td>\n",
       "      <td>6941300252847400.0</td>\n",
       "      <td>4</td>\n",
       "      <td>45.347</td>\n",
       "      <td>True</td>\n",
       "      <td>6907030011649010.0</td>\n",
       "      <td>9</td>\n",
       "      <td>0</td>\n",
       "      <td>False</td>\n",
       "    </tr>\n",
       "    <tr>\n",
       "      <th>16</th>\n",
       "      <td>41.435</td>\n",
       "      <td>7488612043540054.0</td>\n",
       "      <td>3</td>\n",
       "      <td>32.964</td>\n",
       "      <td>True</td>\n",
       "      <td>7409027903728504.0</td>\n",
       "      <td>3</td>\n",
       "      <td>0</td>\n",
       "      <td>False</td>\n",
       "    </tr>\n",
       "  </tbody>\n",
       "</table>\n",
       "</div>"
      ],
      "text/plain": [
       "    runtime-non             mse-non  iterations-non  runtime-heur  \\\n",
       "4        42.996  7058006844292015.0               3        35.162   \n",
       "12       47.907  6941300252847400.0               4        45.347   \n",
       "16       41.435  7488612043540054.0               3        32.964   \n",
       "\n",
       "    mse-achieved            mse-heur  iterations-heur pim  stagnation  \n",
       "4           True  6985813765363247.0                4   0       False  \n",
       "12          True  6907030011649010.0                9   0       False  \n",
       "16          True  7409027903728504.0                3   0       False  "
      ]
     },
     "execution_count": 111,
     "metadata": {},
     "output_type": "execute_result"
    }
   ],
   "source": [
    "speedupRelevant = results[results.stagnation == False]\n",
    "speedupRelevant"
   ]
  },
  {
   "cell_type": "markdown",
   "metadata": {},
   "source": [
    "Calculate the average speedup across all non-stagnated replicates ('Measured speedup' value reported in the report)"
   ]
  },
  {
   "cell_type": "code",
   "execution_count": 112,
   "metadata": {},
   "outputs": [
    {
     "data": {
      "text/plain": [
       "1.1662510070040157"
      ]
     },
     "execution_count": 112,
     "metadata": {},
     "output_type": "execute_result"
    }
   ],
   "source": [
    "# speedup of the heuristic method\n",
    "measuredSpeedup = speedupRelevant['runtime-non'].sum()/speedupRelevant['runtime-heur'].sum()\n",
    "measuredSpeedup"
   ]
  },
  {
   "cell_type": "markdown",
   "metadata": {},
   "source": [
    "Calculate the standard deviation of speedup (note that this will not be possible if we don't have at least 2 replicates that didn't stagnate)"
   ]
  },
  {
   "cell_type": "code",
   "execution_count": 115,
   "metadata": {},
   "outputs": [],
   "source": [
    "if(len(speedupRelevant) < 2):\n",
    "    raise Exception(\"Should not continue only a single non-stagnated replicate was found\")"
   ]
  },
  {
   "cell_type": "code",
   "execution_count": 116,
   "metadata": {},
   "outputs": [
    {
     "data": {
      "text/plain": [
       "0.10727557241647119"
      ]
     },
     "execution_count": 116,
     "metadata": {},
     "output_type": "execute_result"
    }
   ],
   "source": [
    "speedups = speedupRelevant['runtime-non'] / speedupRelevant['runtime-heur']\n",
    "statistics.stdev(speedups)"
   ]
  },
  {
   "cell_type": "markdown",
   "metadata": {},
   "source": [
    "Calculate the proportion of replicates that stagnated"
   ]
  },
  {
   "cell_type": "code",
   "execution_count": 117,
   "metadata": {},
   "outputs": [
    {
     "data": {
      "text/plain": [
       "0.85"
      ]
     },
     "execution_count": 117,
     "metadata": {},
     "output_type": "execute_result"
    }
   ],
   "source": [
    "# proportion stagnated\n",
    "len(results[results.stagnation == True])/len(results)"
   ]
  },
  {
   "cell_type": "markdown",
   "metadata": {},
   "source": [
    "Take a look at the distribution of speedups of non-stagnated replicates - the base for significance testing"
   ]
  },
  {
   "cell_type": "code",
   "execution_count": 118,
   "metadata": {},
   "outputs": [
    {
     "data": {
      "text/plain": [
       "(array([1., 0., 0., 0., 0., 0., 0., 0., 1., 1.]),\n",
       " array([1.05645357, 1.07650595, 1.09655832, 1.1166107 , 1.13666307,\n",
       "        1.15671544, 1.17676782, 1.19682019, 1.21687257, 1.23692494,\n",
       "        1.25697731]),\n",
       " <a list of 10 Patch objects>)"
      ]
     },
     "execution_count": 118,
     "metadata": {},
     "output_type": "execute_result"
    },
    {
     "data": {
      "image/png": "[encoded data removed]",
      "text/plain": [
       "<Figure size 432x288 with 1 Axes>"
      ]
     },
     "metadata": {
      "needs_background": "light"
     },
     "output_type": "display_data"
    }
   ],
   "source": [
    "plt.hist(speedups)"
   ]
  },
  {
   "cell_type": "markdown",
   "metadata": {},
   "source": [
    "## Significance tests"
   ]
  },
  {
   "cell_type": "markdown",
   "metadata": {},
   "source": [
    "Use speedup for each replicate, only include the replicates that did not stagnate"
   ]
  },
  {
   "cell_type": "code",
   "execution_count": 119,
   "metadata": {},
   "outputs": [
    {
     "data": {
      "text/plain": [
       "4     1.222797\n",
       "12    1.056454\n",
       "16    1.256977\n",
       "dtype: float64"
      ]
     },
     "execution_count": 119,
     "metadata": {},
     "output_type": "execute_result"
    }
   ],
   "source": [
    "speedups"
   ]
  },
  {
   "cell_type": "markdown",
   "metadata": {},
   "source": [
    "We can use the ditribution of of our replicates to find the probability of getting reported result value"
   ]
  },
  {
   "cell_type": "code",
   "execution_count": 120,
   "metadata": {},
   "outputs": [],
   "source": [
    "# Take the value they reported and substitute it here\n",
    "REPORTED_SPEEDUP_VALUE = 3.05\n",
    "# significance level\n",
    "alpha = 0.05\n",
    "# seed for reproducibility\n",
    "seed = 12345"
   ]
  },
  {
   "cell_type": "markdown",
   "metadata": {},
   "source": [
    "### Approach 1: Using CLT to get normal distribution"
   ]
  },
  {
   "cell_type": "markdown",
   "metadata": {},
   "source": [
    "As the data might not be normal we sample and do mean"
   ]
  },
  {
   "cell_type": "code",
   "execution_count": 121,
   "metadata": {},
   "outputs": [
    {
     "data": {
      "text/plain": [
       "(array([ 10.,  35.,  90., 170., 213., 245., 161.,  61.,  11.,   4.]),\n",
       " array([1.14108378, 1.1489589 , 1.15683401, 1.16470913, 1.17258425,\n",
       "        1.18045937, 1.18833448, 1.1962096 , 1.20408472, 1.21195984,\n",
       "        1.21983495]),\n",
       " <a list of 10 Patch objects>)"
      ]
     },
     "execution_count": 121,
     "metadata": {},
     "output_type": "execute_result"
    },
    {
     "data": {
      "image/png": "[encoded data removed]",
      "text/plain": [
       "<Figure size 432x288 with 1 Axes>"
      ]
     },
     "metadata": {
      "needs_background": "light"
     },
     "output_type": "display_data"
    }
   ],
   "source": [
    "import numpy as np\n",
    "\n",
    "# sample 50 items 1000 times\n",
    "n = 50\n",
    "sampleTimes = 1000\n",
    "\n",
    "sampleNumber = 0\n",
    "means = []\n",
    "while sampleNumber < sampleTimes: \n",
    "    sampleMean = np.mean(np.random.choice(speedups,n))\n",
    "    means.append(sampleMean)\n",
    "    sampleNumber += 1\n",
    "\n",
    "plt.hist(means)"
   ]
  },
  {
   "cell_type": "markdown",
   "metadata": {},
   "source": [
    "Calculate the critical value for our significance level to compare the t-statistic to:"
   ]
  },
  {
   "cell_type": "code",
   "execution_count": 122,
   "metadata": {},
   "outputs": [
    {
     "data": {
      "text/plain": [
       "1.6765508919142629"
      ]
     },
     "execution_count": 122,
     "metadata": {},
     "output_type": "execute_result"
    }
   ],
   "source": [
    "criticalValue = stats.t.ppf(1-alpha, n-1)\n",
    "criticalValue"
   ]
  },
  {
   "cell_type": "markdown",
   "metadata": {},
   "source": [
    "Calculate the test statistic for the difference of our overall mean and the reported mean"
   ]
  },
  {
   "cell_type": "code",
   "execution_count": 128,
   "metadata": {},
   "outputs": [
    {
     "data": {
      "text/plain": [
       "551.5251774946877"
      ]
     },
     "execution_count": 128,
     "metadata": {},
     "output_type": "execute_result"
    }
   ],
   "source": [
    "overallMeasuredMean = np.mean(means)\n",
    "testStatistic = (overallMeasuredMean - REPORTED_SPEEDUP_VALUE)/(std/math.sqrt(1000))\n",
    "abs(testStatistic)"
   ]
  },
  {
   "cell_type": "markdown",
   "metadata": {},
   "source": [
    "And now calculate the p-value of the testStatistic"
   ]
  },
  {
   "cell_type": "code",
   "execution_count": 129,
   "metadata": {},
   "outputs": [
    {
     "data": {
      "text/plain": [
       "6.683720277321956e-95"
      ]
     },
     "execution_count": 129,
     "metadata": {},
     "output_type": "execute_result"
    }
   ],
   "source": [
    "pValue = stats.t.sf(abs(testStatistic), df=n-1)\n",
    "# store the significance result for later\n",
    "cltApproachSignificant = pValue < alpha\n",
    "pValue"
   ]
  },
  {
   "cell_type": "markdown",
   "metadata": {},
   "source": [
    "### Approach 2: Assuming t-test assumptions are met"
   ]
  },
  {
   "cell_type": "markdown",
   "metadata": {},
   "source": [
    "Alternatively using the samples we have only, assuming t-test assumptions are met"
   ]
  },
  {
   "cell_type": "code",
   "execution_count": null,
   "metadata": {},
   "outputs": [],
   "source": [
    "std = statistics.stdev(speedups)\n",
    "std"
   ]
  },
  {
   "cell_type": "code",
   "execution_count": 125,
   "metadata": {},
   "outputs": [
    {
     "name": "stdout",
     "output_type": "stream",
     "text": [
      "t-Test statistic: 30.414649776082555\n"
     ]
    }
   ],
   "source": [
    "N = len(speedups)\n",
    "\n",
    "testStatistic = (measuredSpeedup - REPORTED_SPEEDUP_VALUE)/(std/math.sqrt(N))\n",
    "print(\"t-Test statistic:\", abs(testStatistic))"
   ]
  },
  {
   "cell_type": "code",
   "execution_count": 126,
   "metadata": {},
   "outputs": [
    {
     "name": "stdout",
     "output_type": "stream",
     "text": [
      "Critical value for current statistic and alpha=0.05:  2.3533634348018264\n",
      "P-value of their result coming from our distribution: 0.0005396359059699447\n",
      "Significant difference - reject H0?:\n"
     ]
    }
   ],
   "source": [
    "criticalValue = stats.t.ppf(1-alpha, N)\n",
    "print(\"Critical value for current statistic and alpha=0.05: \", criticalValue)\n",
    "# calculate our p-value\n",
    "pValue = stats.t.sf(abs(testStatistic), df=N-1)\n",
    "print(\"P-value of their result coming from our distribution:\", pValue)\n",
    "# store significance level for later\n",
    "assumingSignificant =  pValue < alpha\n",
    "print(\"Significant difference - reject H0?:\",)"
   ]
  },
  {
   "cell_type": "markdown",
   "metadata": {},
   "source": [
    "## Verdict"
   ]
  },
  {
   "cell_type": "code",
   "execution_count": 127,
   "metadata": {},
   "outputs": [
    {
     "name": "stdout",
     "output_type": "stream",
     "text": [
      "Approach 1 significant: True\n",
      "Approach 2 significant: True\n"
     ]
    }
   ],
   "source": [
    "print(\"Approach 1 significant:\", cltApproachSignificant)\n",
    "print(\"Approach 2 significant:\", assumingSignificant)"
   ]
  }
 ],
 "metadata": {
  "kernelspec": {
   "display_name": "Python 3",
   "language": "python",
   "name": "python3"
  },
  "language_info": {
   "codemirror_mode": {
    "name": "ipython",
    "version": 3
   },
   "file_extension": ".py",
   "mimetype": "text/x-python",
   "name": "python",
   "nbconvert_exporter": "python",
   "pygments_lexer": "ipython3",
   "version": "3.8.6"
  }
 },
 "nbformat": 4,
 "nbformat_minor": 4
}
